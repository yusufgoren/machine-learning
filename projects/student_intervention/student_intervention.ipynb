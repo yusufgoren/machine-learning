{
 "cells": [
  {
   "cell_type": "markdown",
   "metadata": {},
   "source": [
    "# Machine Learning Engineer Nanodegree\n",
    "## Supervised Learning\n",
    "## Project 2: Building a Student Intervention System"
   ]
  },
  {
   "cell_type": "markdown",
   "metadata": {},
   "source": [
    "Welcome to the second project of the Machine Learning Engineer Nanodegree! In this notebook, some template code has already been provided for you, and it will be your job to implement the additional functionality necessary to successfully complete this project. Sections that begin with **'Implementation'** in the header indicate that the following block of code will require additional functionality which you must provide. Instructions will be provided for each section and the specifics of the implementation are marked in the code block with a `'TODO'` statement. Please be sure to read the instructions carefully!\n",
    "\n",
    "In addition to implementing code, there will be questions that you must answer which relate to the project and your implementation. Each section where you will answer a question is preceded by a **'Question X'** header. Carefully read each question and provide thorough answers in the following text boxes that begin with **'Answer:'**. Your project submission will be evaluated based on your answers to each of the questions and the implementation you provide.  \n",
    "\n",
    ">**Note:** Code and Markdown cells can be executed using the **Shift + Enter** keyboard shortcut. In addition, Markdown cells can be edited by typically double-clicking the cell to enter edit mode."
   ]
  },
  {
   "cell_type": "markdown",
   "metadata": {},
   "source": [
    "### Question 1 - Classification vs. Regression\n",
    "*Your goal for this project is to identify students who might need early intervention before they fail to graduate. Which type of supervised learning problem is this, classification or regression? Why?*"
   ]
  },
  {
   "cell_type": "markdown",
   "metadata": {},
   "source": [
    "**Answer: ** Since the graduation status of the student is discrete (passed or failed), it is a classification problem."
   ]
  },
  {
   "cell_type": "markdown",
   "metadata": {},
   "source": [
    "## Exploring the Data\n",
    "Run the code cell below to load necessary Python libraries and load the student data. Note that the last column from this dataset, `'passed'`, will be our target label (whether the student graduated or didn't graduate). All other columns are features about each student."
   ]
  },
  {
   "cell_type": "code",
   "execution_count": 34,
   "metadata": {
    "collapsed": false
   },
   "outputs": [
    {
     "name": "stdout",
     "output_type": "stream",
     "text": [
      "Student data read successfully!\n"
     ]
    }
   ],
   "source": [
    "# Import libraries\n",
    "import numpy as np\n",
    "import pandas as pd\n",
    "from time import time\n",
    "from sklearn.metrics import f1_score\n",
    "\n",
    "# Read student data\n",
    "student_data = pd.read_csv(\"student-data.csv\")\n",
    "print \"Student data read successfully!\""
   ]
  },
  {
   "cell_type": "code",
   "execution_count": 35,
   "metadata": {
    "collapsed": false
   },
   "outputs": [
    {
     "name": "stdout",
     "output_type": "stream",
     "text": [
      "0.18.dev0\n"
     ]
    }
   ],
   "source": [
    "from IPython.display import Markdown, display\n",
    "def printmd(string):\n",
    "    display(Markdown(string))\n",
    "import sklearn; print sklearn.__version__"
   ]
  },
  {
   "cell_type": "markdown",
   "metadata": {},
   "source": [
    "### Implementation: Data Exploration\n",
    "Let's begin by investigating the dataset to determine how many students we have information on, and learn about the graduation rate among these students. In the code cell below, you will need to compute the following:\n",
    "- The total number of students, `n_students`.\n",
    "- The total number of features for each student, `n_features`.\n",
    "- The number of those students who passed, `n_passed`.\n",
    "- The number of those students who failed, `n_failed`.\n",
    "- The graduation rate of the class, `grad_rate`, in percent (%).\n"
   ]
  },
  {
   "cell_type": "code",
   "execution_count": 36,
   "metadata": {
    "collapsed": false
   },
   "outputs": [
    {
     "name": "stdout",
     "output_type": "stream",
     "text": [
      "Total number of students: 395\n",
      "Number of features: 30\n",
      "Number of students who passed: 265\n",
      "Number of students who failed: 130\n",
      "Graduation rate of the class: 67.09%\n"
     ]
    }
   ],
   "source": [
    "dims = student_data.shape\n",
    "\n",
    "# TODO: Calculate number of students\n",
    "n_students = dims[0]\n",
    "\n",
    "# TODO: Calculate number of features\n",
    "n_features = dims[1] - 1\n",
    "\n",
    "# TODO: Calculate passing students\n",
    "n_passed = len(student_data[student_data['passed'] =='yes'])\n",
    "\n",
    "# TODO: Calculate failing students\n",
    "n_failed = n_students - n_passed\n",
    "\n",
    "# TODO: Calculate graduation rate\n",
    "grad_rate = n_passed / (n_students + 0.0) * 100\n",
    "\n",
    "# Print the results\n",
    "print \"Total number of students: {}\".format(n_students)\n",
    "print \"Number of features: {}\".format(n_features)\n",
    "print \"Number of students who passed: {}\".format(n_passed)\n",
    "print \"Number of students who failed: {}\".format(n_failed)\n",
    "print \"Graduation rate of the class: {:.2f}%\".format(grad_rate)\n"
   ]
  },
  {
   "cell_type": "markdown",
   "metadata": {},
   "source": [
    "## Preparing the Data\n",
    "In this section, we will prepare the data for modeling, training and testing.\n",
    "\n",
    "### Identify feature and target columns\n",
    "It is often the case that the data you obtain contains non-numeric features. This can be a problem, as most machine learning algorithms expect numeric data to perform computations with.\n",
    "\n",
    "Run the code cell below to separate the student data into feature and target columns to see if any features are non-numeric."
   ]
  },
  {
   "cell_type": "code",
   "execution_count": 37,
   "metadata": {
    "collapsed": false
   },
   "outputs": [
    {
     "name": "stdout",
     "output_type": "stream",
     "text": [
      "Feature columns:\n",
      "['school', 'sex', 'age', 'address', 'famsize', 'Pstatus', 'Medu', 'Fedu', 'Mjob', 'Fjob', 'reason', 'guardian', 'traveltime', 'studytime', 'failures', 'schoolsup', 'famsup', 'paid', 'activities', 'nursery', 'higher', 'internet', 'romantic', 'famrel', 'freetime', 'goout', 'Dalc', 'Walc', 'health', 'absences']\n",
      "\n",
      "Target column: passed\n",
      "\n",
      "Feature values:\n",
      "  school sex  age address famsize Pstatus  Medu  Fedu     Mjob      Fjob  \\\n",
      "0     GP   F   18       U     GT3       A     4     4  at_home   teacher   \n",
      "1     GP   F   17       U     GT3       T     1     1  at_home     other   \n",
      "2     GP   F   15       U     LE3       T     1     1  at_home     other   \n",
      "3     GP   F   15       U     GT3       T     4     2   health  services   \n",
      "4     GP   F   16       U     GT3       T     3     3    other     other   \n",
      "\n",
      "    ...    higher internet  romantic  famrel  freetime goout Dalc Walc health  \\\n",
      "0   ...       yes       no        no       4         3     4    1    1      3   \n",
      "1   ...       yes      yes        no       5         3     3    1    1      3   \n",
      "2   ...       yes      yes        no       4         3     2    2    3      3   \n",
      "3   ...       yes      yes       yes       3         2     2    1    1      5   \n",
      "4   ...       yes       no        no       4         3     2    1    2      5   \n",
      "\n",
      "  absences  \n",
      "0        6  \n",
      "1        4  \n",
      "2       10  \n",
      "3        2  \n",
      "4        4  \n",
      "\n",
      "[5 rows x 30 columns]\n"
     ]
    }
   ],
   "source": [
    "# Extract feature columns\n",
    "feature_cols = list(student_data.columns[:-1])\n",
    "\n",
    "# Extract target column 'passed'\n",
    "target_col = student_data.columns[-1] \n",
    "\n",
    "# Show the list of columns\n",
    "print \"Feature columns:\\n{}\".format(feature_cols)\n",
    "print \"\\nTarget column: {}\".format(target_col)\n",
    "\n",
    "# Separate the data into feature data and target data (X_all and y_all, respectively)\n",
    "X_all = student_data[feature_cols]\n",
    "y_all = student_data[target_col]\n",
    "\n",
    "# Show the feature information by printing the first five rows\n",
    "print \"\\nFeature values:\"\n",
    "print X_all.head()"
   ]
  },
  {
   "cell_type": "markdown",
   "metadata": {},
   "source": [
    "### Preprocess Feature Columns\n",
    "\n",
    "As you can see, there are several non-numeric columns that need to be converted! Many of them are simply `yes`/`no`, e.g. `internet`. These can be reasonably converted into `1`/`0` (binary) values.\n",
    "\n",
    "Other columns, like `Mjob` and `Fjob`, have more than two values, and are known as _categorical variables_. The recommended way to handle such a column is to create as many columns as possible values (e.g. `Fjob_teacher`, `Fjob_other`, `Fjob_services`, etc.), and assign a `1` to one of them and `0` to all others.\n",
    "\n",
    "These generated columns are sometimes called _dummy variables_, and we will use the [`pandas.get_dummies()`](http://pandas.pydata.org/pandas-docs/stable/generated/pandas.get_dummies.html?highlight=get_dummies#pandas.get_dummies) function to perform this transformation. Run the code cell below to perform the preprocessing routine discussed in this section."
   ]
  },
  {
   "cell_type": "code",
   "execution_count": 38,
   "metadata": {
    "collapsed": false
   },
   "outputs": [
    {
     "name": "stdout",
     "output_type": "stream",
     "text": [
      "Processed feature columns (48 total features):\n",
      "['school_GP', 'school_MS', 'sex_F', 'sex_M', 'age', 'address_R', 'address_U', 'famsize_GT3', 'famsize_LE3', 'Pstatus_A', 'Pstatus_T', 'Medu', 'Fedu', 'Mjob_at_home', 'Mjob_health', 'Mjob_other', 'Mjob_services', 'Mjob_teacher', 'Fjob_at_home', 'Fjob_health', 'Fjob_other', 'Fjob_services', 'Fjob_teacher', 'reason_course', 'reason_home', 'reason_other', 'reason_reputation', 'guardian_father', 'guardian_mother', 'guardian_other', 'traveltime', 'studytime', 'failures', 'schoolsup', 'famsup', 'paid', 'activities', 'nursery', 'higher', 'internet', 'romantic', 'famrel', 'freetime', 'goout', 'Dalc', 'Walc', 'health', 'absences']\n"
     ]
    }
   ],
   "source": [
    "from sklearn.preprocessing import MinMaxScaler as MMS\n",
    "\n",
    "def preprocess_features(X):\n",
    "    ''' Preprocesses the student data and converts non-numeric binary variables into\n",
    "        binary (0/1) variables. Converts categorical variables into dummy variables. '''\n",
    "    \n",
    "    # Initialize new output DataFrame\n",
    "    output = pd.DataFrame(index = X.index)\n",
    "\n",
    "    # Investigate each feature column for the data\n",
    "    for col, col_data in X.iteritems():\n",
    "        # If data type is non-numeric, replace all yes/no values with 1/0\n",
    "        if col_data.dtype == object:\n",
    "            col_data = col_data.replace(['yes', 'no'], [1, 0])\n",
    "        # If data type is categorical, convert to dummy variables\n",
    "        if col_data.dtype == object:\n",
    "            # Example: 'school' => 'school_GP' and 'school_MS'\n",
    "            col_data = pd.get_dummies(col_data, prefix = col)\n",
    "        output = output.join(col_data)\n",
    "    \n",
    "    return output\n",
    "\n",
    "\n",
    "def preprocess_features_2(X):\n",
    "    ''' Preprocesses the student data and converts non-numeric binary variables into\n",
    "        binary (0/1) variables. Converts binary categories to binary variables while\n",
    "        renaming the column name and normalizes the numerical data to [0,1].''' \n",
    "    \n",
    "    # Initialize new output DataFrame\n",
    "    output = pd.DataFrame(index = X.index)\n",
    "\n",
    "    # Investigate each feature column for the data\n",
    "    for col, col_data in X.iteritems():\n",
    "        # print col\n",
    "        # If data type is non-numeric, replace all yes/no values with 1/0\n",
    "        uniq = np.sort(col_data.unique())\n",
    "        if col_data.dtype == object and len(uniq) == 2:\n",
    "            col_data = col_data.replace(['yes', 'no'], [1, 0])\n",
    "            if uniq[0] != \"no\":\n",
    "                col_data.name = col + \"_\" + uniq[0]\n",
    "                col_data = col_data.replace(uniq, [1, 0])\n",
    "        # If data type is categorical, convert to dummy variables\n",
    "        elif col_data.dtype == object:\n",
    "            # Example: 'school' => 'school_GP' and 'school_MS'\n",
    "            col_data = pd.get_dummies(col_data, prefix = col)\n",
    "        else:\n",
    "            # Normalize number columns\n",
    "            m = col_data.min()\n",
    "            M = col_data.max()\n",
    "            if (M - m) != 0:\n",
    "                col_data = (col_data - m) / (M - m)\n",
    "            # print col_data   \n",
    "        # Collect the revised columns\n",
    "        output = output.join(col_data)\n",
    "    \n",
    "    return output\n",
    "\n",
    "def preprocess_features_3(X):\n",
    "    ''' Preprocesses the student data and converts non-numeric binary variables into\n",
    "        binary (0/1) variables. Converts categorical variables into dummy variables.\n",
    "        Normalizes the rest between [0,1].'''\n",
    "    \n",
    "    # Initialize new output DataFrame\n",
    "    output = pd.DataFrame(index = X.index)\n",
    "\n",
    "    # Investigate each feature column for the data\n",
    "    for col, col_data in X.iteritems():\n",
    "        # print col\n",
    "        # If data type is non-numeric, replace all yes/no values with 1/0\n",
    "        if col_data.dtype == object:\n",
    "            col_data = col_data.replace(['yes', 'no'], [1, 0])\n",
    "        # If data type is categorical, convert to dummy variables\n",
    "        if col_data.dtype == object:\n",
    "            # Example: 'school' => 'school_GP' and 'school_MS'\n",
    "            col_data = pd.get_dummies(col_data, prefix = col)\n",
    "        else:\n",
    "            # Normalize number columns\n",
    "            m = col_data.min()\n",
    "            M = col_data.max()\n",
    "            if (M - m) != 0:\n",
    "                col_data = (col_data - m) / (M - m)\n",
    "            # print col_data   \n",
    "        # Collect the revised columns\n",
    "        output = output.join(col_data)\n",
    "    \n",
    "    return output\n",
    "\n",
    "X_all = preprocess_features(student_data[list(student_data.columns[:-1])])\n",
    "print \"Processed feature columns ({} total features):\\n{}\".format(len(X_all.columns), list(X_all.columns))\n",
    "# print X_all['age']"
   ]
  },
  {
   "cell_type": "markdown",
   "metadata": {},
   "source": [
    "### Implementation: Training and Testing Data Split\n",
    "So far, we have converted all _categorical_ features into numeric values. For the next step, we split the data (both features and corresponding labels) into training and test sets. In the following code cell below, you will need to implement the following:\n",
    "- Randomly shuffle and split the data (`X_all`, `y_all`) into training and testing subsets.\n",
    "  - Use 300 training points (approximately 75%) and 95 testing points (approximately 25%).\n",
    "  - Set a `random_state` for the function(s) you use, if provided.\n",
    "  - Store the results in `X_train`, `X_test`, `y_train`, and `y_test`."
   ]
  },
  {
   "cell_type": "code",
   "execution_count": 39,
   "metadata": {
    "collapsed": false
   },
   "outputs": [
    {
     "name": "stdout",
     "output_type": "stream",
     "text": [
      "Training set has 300 samples.\n",
      "Testing set has 95 samples.\n"
     ]
    }
   ],
   "source": [
    "# TODO: Import any additional functionality you may need here\n",
    "from sklearn.cross_validation import ShuffleSplit,train_test_split\n",
    "\n",
    "# TODO: Set the number of training points\n",
    "num_train = 300\n",
    "\n",
    "# Set the number of testing points\n",
    "num_test = X_all.shape[0] - num_train\n",
    "\n",
    "# TODO: Shuffle and split the dataset into the number of training and testing points above\n",
    "X_train, X_test, y_train, y_test = train_test_split(X_all, y_all, \n",
    "                                                    test_size = num_test, \n",
    "                                                    train_size = num_train, \n",
    "                                                    stratify = y_all,\n",
    "                                                    random_state = 42)\n",
    "\n",
    "# Show the results of the split\n",
    "print \"Training set has {} samples.\".format(X_train.shape[0])\n",
    "print \"Testing set has {} samples.\".format(X_test.shape[0])"
   ]
  },
  {
   "cell_type": "markdown",
   "metadata": {},
   "source": [
    "## Training and Evaluating Models\n",
    "In this section, you will choose 3 supervised learning models that are appropriate for this problem and available in `scikit-learn`. You will first discuss the reasoning behind choosing these three models by considering what you know about the data and each model's strengths and weaknesses. You will then fit the model to varying sizes of training data (100 data points, 200 data points, and 300 data points) and measure the F<sub>1</sub> score. You will need to produce three tables (one for each model) that shows the training set size, training time, prediction time, F<sub>1</sub> score on the training set, and F<sub>1</sub> score on the testing set."
   ]
  },
  {
   "cell_type": "markdown",
   "metadata": {},
   "source": [
    "### Question 2 - Model Application\n",
    "*List three supervised learning models that are appropriate for this problem. What are the general applications of each model? What are their strengths and weaknesses? Given what you know about the data, why did you choose these models to be applied?*"
   ]
  },
  {
   "cell_type": "markdown",
   "metadata": {},
   "source": [
    "*Answer:*  The three learning models I would use in this classification project would be Naive Bayes (NB), SVM and Decision Tree.\n",
    "\n",
    "#### NB\n",
    "\n",
    "NB is a technique that is usually applied to text characterization (e.g. sentiment analysis, medical diagnosis) but depending on the normalization of data, it can compete with SVM. Since it does not use many parameters to tweak during the learning process, it makes the model really hard to overfit the data at hand. In contrast, due to the same feature, the susceptibility to noise is high. This technique is applicable to our data since overfitting being less likely helps to deal with unbalanced and small sized data. Also, since these are student records, it is rather safe to assume that there is not much noise involved in the collection of it.\n",
    "\n",
    "#### SVM\n",
    "\n",
    "SVM (with the linear kernel) wants to find separating lines for different classes of features while maximizing the margin. It is widely used in binary classification problems with fewer features, in image classification where feature extraction is in a sense embedded in the kernel choice, in cursive classification, etc. Using the kernel trick, one can also use separating hyperplanes in higher dimensions to reveal non-linear separation boundaries in the original feature space, which adds tremendous flexibility to the approach and which ultimately adds new features to the data at hand. SVM is a strong choice for this data since there are many features (but not too much compared to sample size). Also as an advantage, the choice of the kernel in the algorithm adds versatility to the model. The downside is that our data has a lot of exclusive binary features (that came from non-numeric columns) and my intuition tells me that these features may affect the optimization poorly.\n",
    "\n",
    "#### Decision Tree\n",
    "\n",
    "Decision tree regression method uses classification trees, where a binary tree is constructed using the features and the end labels are placed at the terminating leaves. Using this tree, the method then comes up with the label given new features. It is used in data mining applications to reveal how to partition the data, in astronomy to classify Hubble's images to count several object(e.g. galaxies, quasars), in text classification in e.g. medicine, etc. In contrast with SVM's single weakness, decision tree algorithms handles the binary features extremely well, thus fitting model to use with our data. On the other hand, they are very susceptible to overfitting and learning might take much longer than the other algorithms, so we must be careful while choosing parameters for the algorithm.\n",
    "    "
   ]
  },
  {
   "cell_type": "markdown",
   "metadata": {},
   "source": [
    "### Setup\n",
    "Run the code cell below to initialize three helper functions which you can use for training and testing the three supervised learning models you've chosen above. The functions are as follows:\n",
    "- `train_classifier` - takes as input a classifier and training data and fits the classifier to the data.\n",
    "- `predict_labels` - takes as input a fit classifier, features, and a target labeling and makes predictions using the F<sub>1</sub> score.\n",
    "- `train_predict` - takes as input a classifier, and the training and testing data, and performs `train_clasifier` and `predict_labels`.\n",
    " - This function will report the F<sub>1</sub> score for both the training and testing data separately."
   ]
  },
  {
   "cell_type": "code",
   "execution_count": 40,
   "metadata": {
    "collapsed": false
   },
   "outputs": [],
   "source": [
    "def train_classifier(clf, X_train, y_train, verbose=False):\n",
    "    ''' Fits a classifier to the training data. '''\n",
    "    \n",
    "    # Start the clock, train the classifier, then stop the clock\n",
    "    start = time()\n",
    "    clf.fit(X_train, y_train)\n",
    "    end = time()\n",
    "    \n",
    "    # Print the results\n",
    "    if verbose:\n",
    "        print \"Trained model in {:.4f} seconds\".format(end - start)\n",
    "    return end - start\n",
    "\n",
    "    \n",
    "def predict_labels(clf, features, target, verbose=False):\n",
    "    ''' Makes predictions using a fit classifier based on F1 score. '''\n",
    "    \n",
    "    # Start the clock, make predictions, then stop the clock\n",
    "    start = time()\n",
    "    y_pred = clf.predict(features)\n",
    "    end = time()\n",
    "    \n",
    "    # Print and return results\n",
    "    if verbose:\n",
    "        print \"Made predictions in {:.4f} seconds.\".format(end - start)\n",
    "    return {'score': f1_score(target.values, y_pred, pos_label='yes'), 'dt': end - start}\n",
    "\n",
    "\n",
    "def train_predict(clf, X_train, y_train, X_test, y_test, verbose=False):\n",
    "    ''' Train and predict using a classifer based on F1 score. '''\n",
    "    \n",
    "    # Indicate the classifier and the training set size\n",
    "    if verbose:\n",
    "        print \"Training a {} using a training set size of {}. . .\".format(clf.__class__.__name__, len(X_train))\n",
    "    \n",
    "    # Train the classifier\n",
    "    t_tr = train_classifier(clf, X_train, y_train)\n",
    "    \n",
    "    # Print the results of prediction for both training and testing\n",
    "    scores = {'dt': t_tr, 'train': predict_labels(clf, X_train, y_train), 'test': predict_labels(clf, X_test, y_test)}\n",
    "    \n",
    "    if verbose:\n",
    "        print \"F1 score for training set: {:.4f}.\".format(scores.train.score)\n",
    "        print \"F1 score for test set: {:.4f}.\".format(scores.test.score)\n",
    "    \n",
    "    # Print markdown table row after header\n",
    "    return scores"
   ]
  },
  {
   "cell_type": "markdown",
   "metadata": {},
   "source": [
    "### Implementation: Model Performance Metrics\n",
    "With the predefined functions above, you will now import the three supervised learning models of your choice and run the `train_predict` function for each one. Remember that you will need to train and predict on each classifier for three different training set sizes: 100, 200, and 300. Hence, you should expect to have 9 different outputs below — 3 for each model using the varying training set sizes. In the following code cell, you will need to implement the following:\n",
    "- Import the three supervised learning models you've discussed in the previous section.\n",
    "- Initialize the three models and store them in `clf_A`, `clf_B`, and `clf_C`.\n",
    " - Use a `random_state` for each model you use, if provided.\n",
    " - **Note:** Use the default settings for each model — you will tune one specific model in a later section.\n",
    "- Create the different training set sizes to be used to train each model.\n",
    " - *Do not reshuffle and resplit the data! The new training points should be drawn from `X_train` and `y_train`.*\n",
    "- Fit each model with each training set size and make predictions on the test set (9 in total).  \n",
    "**Note:** Three tables are provided after the following code cell which can be used to store your results."
   ]
  },
  {
   "cell_type": "code",
   "execution_count": 41,
   "metadata": {
    "collapsed": false
   },
   "outputs": [],
   "source": [
    "# TODO: Import the three supervised learning models from sklearn\n",
    "from sklearn.naive_bayes import GaussianNB\n",
    "from sklearn.svm import SVC, LinearSVC\n",
    "from sklearn.tree import DecisionTreeClassifier\n",
    "from sklearn.neural_network import MLPClassifier\n",
    "from sklearn.neighbors import KNeighborsClassifier\n",
    "\n",
    "model_names = [\"GaussianNB\",\"SVC\", \"Linear SVC\", \"Decision Tree\"]\n",
    "# TODO: Initialize the three models\n",
    "classifiers = [GaussianNB(),\n",
    "               SVC(random_state = 42),\n",
    "               LinearSVC(random_state = 42),\n",
    "               DecisionTreeClassifier(random_state = 42)]\n",
    "\n",
    "from sklearn import __version__ as skversion\n",
    "if skversion > '0.18':\n",
    "    classifiers += [MLPClassifier(algorithm='l-bfgs', batch_size=50, random_state = 42)]\n",
    "    model_names += [\"Multi-Layered Perceptron NN\"]\n",
    "    \n",
    "    \n",
    "\n",
    "table = \"\"\"\n",
    "**{3}**\n",
    "\n",
    "| Training Set Size | Training Time | Prediction Time (train) | Prediction Time (test) | F1 Score (train) | F1 Score (test) |\n",
    "| :---------------: | :---------------------: | :---------------------: | :--------------------: | :--------------: | :-------------: |\n",
    "| 100 |{0[dt]:.4f} |{0[train][dt]:.4f} |{0[test][dt]:.4f} |{0[train][score]:.4f} | {0[test][score]:.4f} |\n",
    "| 200 |{1[dt]:.4f} |{1[train][dt]:.4f} |{1[test][dt]:.4f} |{1[train][score]:.4f} | {1[test][score]:.4f} |\n",
    "| 300 |{2[dt]:.4f} |{2[train][dt]:.4f} |{2[test][dt]:.4f} |{2[train][score]:.4f} | {2[test][score]:.4f} |\n",
    "\n",
    "\"\"\"\n",
    "\n",
    "# TODO: Set up the training set sizes\n",
    "X_train_100 = X_train[:100]\n",
    "y_train_100 = y_train[:100]\n",
    "\n",
    "X_train_200 = X_train[:200]\n",
    "y_train_200 = y_train[:200]\n",
    "\n",
    "X_train_300 = X_train\n",
    "y_train_300 = y_train\n",
    "\n",
    "# TODO: Execute the 'train_predict' function for each classifier and each training set size\n",
    "printout = \"\"\n",
    "for i in range(len(classifiers)):\n",
    "    r = [\"\"] * 4\n",
    "    r[3] = \"Classifier {} - {}\".format(i + 1,classifiers[i].__class__.__name__)\n",
    "    r[0] = train_predict(classifiers[i], X_train_100, y_train_100, X_test, y_test)\n",
    "    r[1] = train_predict(classifiers[i], X_train_200, y_train_200, X_test, y_test)\n",
    "    r[2] = train_predict(classifiers[i], X_train_300, y_train_300, X_test, y_test)\n",
    "    printout += table.format(*r)"
   ]
  },
  {
   "cell_type": "markdown",
   "metadata": {},
   "source": [
    "### Tabular Results\n",
    "Edit the cell below to see how a table can be designed in [Markdown](https://github.com/adam-p/markdown-here/wiki/Markdown-Cheatsheet#tables). You can record your results from above in the tables provided."
   ]
  },
  {
   "cell_type": "code",
   "execution_count": 42,
   "metadata": {
    "collapsed": false
   },
   "outputs": [
    {
     "data": {
      "text/markdown": [
       "I wanted to learn to print in Markdown using Code cells and also I wanted to try Perceptron NN and LinearSVC for curiosity."
      ],
      "text/plain": [
       "<IPython.core.display.Markdown object>"
      ]
     },
     "metadata": {},
     "output_type": "display_data"
    },
    {
     "data": {
      "text/markdown": [
       "\n",
       "**Classifier 1 - GaussianNB**\n",
       "\n",
       "| Training Set Size | Training Time | Prediction Time (train) | Prediction Time (test) | F1 Score (train) | F1 Score (test) |\n",
       "| :---------------: | :---------------------: | :---------------------: | :--------------------: | :--------------: | :-------------: |\n",
       "| 100 |0.0017 |0.0003 |0.0003 |0.7752 | 0.6457 |\n",
       "| 200 |0.0008 |0.0003 |0.0003 |0.8060 | 0.7218 |\n",
       "| 300 |0.0009 |0.0004 |0.0003 |0.8134 | 0.7761 |\n",
       "\n",
       "\n",
       "**Classifier 2 - SVC**\n",
       "\n",
       "| Training Set Size | Training Time | Prediction Time (train) | Prediction Time (test) | F1 Score (train) | F1 Score (test) |\n",
       "| :---------------: | :---------------------: | :---------------------: | :--------------------: | :--------------: | :-------------: |\n",
       "| 100 |0.0018 |0.0010 |0.0009 |0.8354 | 0.8025 |\n",
       "| 200 |0.0050 |0.0043 |0.0022 |0.8431 | 0.8105 |\n",
       "| 300 |0.0094 |0.0064 |0.0024 |0.8664 | 0.8052 |\n",
       "\n",
       "\n",
       "**Classifier 3 - LinearSVC**\n",
       "\n",
       "| Training Set Size | Training Time | Prediction Time (train) | Prediction Time (test) | F1 Score (train) | F1 Score (test) |\n",
       "| :---------------: | :---------------------: | :---------------------: | :--------------------: | :--------------: | :-------------: |\n",
       "| 100 |0.0111 |0.0002 |0.0001 |0.8732 | 0.6880 |\n",
       "| 200 |0.0285 |0.0004 |0.0003 |0.8227 | 0.7571 |\n",
       "| 300 |0.0371 |0.0010 |0.0003 |0.8256 | 0.6935 |\n",
       "\n",
       "\n",
       "**Classifier 4 - DecisionTreeClassifier**\n",
       "\n",
       "| Training Set Size | Training Time | Prediction Time (train) | Prediction Time (test) | F1 Score (train) | F1 Score (test) |\n",
       "| :---------------: | :---------------------: | :---------------------: | :--------------------: | :--------------: | :-------------: |\n",
       "| 100 |0.0013 |0.0003 |0.0003 |1.0000 | 0.6452 |\n",
       "| 200 |0.0021 |0.0004 |0.0002 |1.0000 | 0.7258 |\n",
       "| 300 |0.0019 |0.0004 |0.0007 |1.0000 | 0.6838 |\n",
       "\n",
       "\n",
       "**Classifier 5 - MLPClassifier**\n",
       "\n",
       "| Training Set Size | Training Time | Prediction Time (train) | Prediction Time (test) | F1 Score (train) | F1 Score (test) |\n",
       "| :---------------: | :---------------------: | :---------------------: | :--------------------: | :--------------: | :-------------: |\n",
       "| 100 |0.2610 |0.0006 |0.0005 |1.0000 | 0.6822 |\n",
       "| 200 |0.4789 |0.0010 |0.0005 |1.0000 | 0.6613 |\n",
       "| 300 |0.6756 |0.0014 |0.0005 |1.0000 | 0.6870 |\n",
       "\n"
      ],
      "text/plain": [
       "<IPython.core.display.Markdown object>"
      ]
     },
     "metadata": {},
     "output_type": "display_data"
    }
   ],
   "source": [
    "printmd(\"I wanted to learn to print in Markdown using Code cells and also I wanted to try Perceptron NN and LinearSVC for curiosity.\")    \n",
    "printmd(printout)"
   ]
  },
  {
   "cell_type": "markdown",
   "metadata": {},
   "source": [
    "## Choosing the Best Model\n",
    "In this final section, you will choose from the three supervised learning models the *best* model to use on the student data. You will then perform a grid search optimization for the model over the entire training set (`X_train` and `y_train`) by tuning at least one parameter to improve upon the untuned model's F<sub>1</sub> score. "
   ]
  },
  {
   "cell_type": "markdown",
   "metadata": {},
   "source": [
    "### Question 3 - Chosing the Best Model\n",
    "*Based on the experiments you performed earlier, in one to two paragraphs, explain to the board of supervisors what single model you chose as the best model. Which model is generally the most appropriate based on the available data, limited resources, cost, and performance?*"
   ]
  },
  {
   "cell_type": "markdown",
   "metadata": {},
   "source": [
    "**Answer: ** The first model candidate to eliminate would be Decision Tree, since the model clearly overfits and performs poorly as the training set increases, the indicators being the perfect score for the training and poor testing score. Also, it seems like prediction times are also higher than the other ones. Choosing between SVM and Gaussian NB is challenging. As you can see in the table above, both models increasingly fit the training data better and also performs rather well on the testing set. One thing to notice here is that SVM has significantly higher training scores; thus, after fine-tuning its parameters, it is expected to perform better than Gaussian NB. On the other hand, refering to the elapsed times for the models, it is apparent that SVM gets computationally costly as number of samples increase. Therefore, depending on the size of the data, we might prefer to train a Gaussian NB model.\n",
    "\n",
    "For the data available at hand I would recommend going forward with SVM model to fit the data. If we had much larger set of students to consider, I might have preferred Gaussian NB."
   ]
  },
  {
   "cell_type": "markdown",
   "metadata": {},
   "source": [
    "### Question 4 - Model in Layman's Terms\n",
    "*In one to two paragraphs, explain to the board of directors in layman's terms how the final model chosen is supposed to work. For example if you've chosen to use a decision tree or a support vector machine, how does the model go about making a prediction?*"
   ]
  },
  {
   "cell_type": "markdown",
   "metadata": {},
   "source": [
    "**Answer: **\n",
    "\n",
    "Upon considering several other, I have chosen _Support Vector Machine (SVM)_ model to predict student graduation for this project. SVM constructs hyperplanes, i.e. higher dimensional counterparts of lines/planes in 2D/3D, that separates features according to graduation status. This separation is optimal in the following sense: the algorithm chooses the separator that maximizes the separation margin. \n",
    "<img src=\"separation.png\" width=50% title=\"Courtesy of sklearn documentation\">\n",
    "As seen in the graph above, the full line is chosen over the dotted lines, which separate the data as well, since the former has a larger separation margin, i.e. in average more distant to the points that are close to it on either side. The learning phase consists of coming up with these separators and storing them for prediction. In the predictive phase, given the student data, the algorithm computes which region it falls under and decides if she/he is likely to graduate or not.\n",
    "\n",
    "Of course, real world data is rarely this easily separable, e.g. consider the following\n",
    "<img src=\"data1_2D.png\" width=50% title=\"Courtesy of Eric Kim at www.eric-kim.net\">\n",
    "As you can see there is no line suitable to separate the two colors, but our human eye can detect that there is actually a pattern: reds and blues are separated by a circle rather than a line. Even though it seems like SVM wouldn't be successful in this case, there is a peculiar functionality of it called the _kernel trick_. What it does is that through a transformation in space (possibly while increasing the dimensionality), it reveals a linear separator. For our example above, as we noticed that the points are separated by distance, we can come up with a transformation that encodes not only 2 axis but also a new third one that encodes the distance to the origin.\n",
    "<img src=\"data1_3D.png\" width=50% title=\"Courtesy of Eric Kim at www.eric-kim.net\">\n",
    "Now we can see the linear separation evidently (here linear is a plane since we are in 3D)\n",
    "<img src=\"data1_2D_3D.png\" width=75% title=\"Courtesy of Eric Kim at www.eric-kim.net\">\n",
    "And as you can see, the separator in 2D is now a circle instead of a line! This example shows only the tip of the iceberg of the advantages of using kernel trick in SVMs. Here is a bunch of other data that is not linearly separable, but after a kernel trick SVM reveals a complex separation boundary.\n",
    "- Here we see the end result of a transformation that revealed the complex separator (red curve on the left) after transforming and linearly separating.\n",
    "<img src=\"kernel_trick1.png\" width=50% title=\"Courtesy of Wikipedia\">\n",
    "- Here is another sketch of 2D-to-3D transformation that reveals the plane separator.\n",
    "<img src=\"kernel_trick2.png\" width=50% title=\"\">\n",
    "- Lastly, another application of SVM that reveals a highly complex separator.\n",
    "<img src=\"kernel_trick3.png\" width=50% title=\"Courtesy of Quora\">"
   ]
  },
  {
   "cell_type": "markdown",
   "metadata": {},
   "source": [
    "### Implementation: Model Tuning\n",
    "Fine tune the chosen model. Use grid search (`GridSearchCV`) with at least one important parameter tuned with at least 3 different values. You will need to use the entire training set for this. In the code cell below, you will need to implement the following:\n",
    "- Import [`sklearn.grid_search.gridSearchCV`](http://scikit-learn.org/stable/modules/generated/sklearn.grid_search.GridSearchCV.html) and [`sklearn.metrics.make_scorer`](http://scikit-learn.org/stable/modules/generated/sklearn.metrics.make_scorer.html).\n",
    "- Create a dictionary of parameters you wish to tune for the chosen model.\n",
    " - Example: `parameters = {'parameter' : [list of values]}`.\n",
    "- Initialize the classifier you've chosen and store it in `clf`.\n",
    "- Create the F<sub>1</sub> scoring function using `make_scorer` and store it in `f1_scorer`.\n",
    " - Set the `pos_label` parameter to the correct value!\n",
    "- Perform grid search on the classifier `clf` using `f1_scorer` as the scoring method, and store it in `grid_obj`.\n",
    "- Fit the grid search object to the training data (`X_train`, `y_train`), and store it in `grid_obj`."
   ]
  },
  {
   "cell_type": "code",
   "execution_count": 43,
   "metadata": {
    "collapsed": false
   },
   "outputs": [],
   "source": [
    "# Data scaling for SVM \n",
    "\n",
    "from sklearn import preprocessing\n",
    "\n",
    "\n",
    "X_tr = [pd.DataFrame(X_train), pd.DataFrame(X_train), pd.DataFrame(X_train)]\n",
    "X_te = [pd.DataFrame(X_test), pd.DataFrame(X_test), pd.DataFrame(X_test)]\n",
    "\n",
    "norm_names = [\"\"]*len(X_tr)\n",
    "\n",
    "# idx 0 for whitened data (mean 0, std dev 1)\n",
    "scaler = preprocessing.StandardScaler().fit(X_train.values)\n",
    "X_tr[0][X_tr[0].columns] = scaler.transform(X_tr[0])\n",
    "X_te[0][X_te[0].columns] = scaler.transform(X_te[0])\n",
    "norm_names[0] = \"mean 0, std.dev 1\"\n",
    "\n",
    "# idx 0 for data scaled to [0,1] interval\n",
    "train_trans = lambda x: (x - X_train[x.name].min()) / (X_train[x.name].max() - X_train[x.name].min())\n",
    "X_tr[1] = X_tr[1].apply(train_trans)\n",
    "X_te[1] = X_te[1].apply(train_trans)\n",
    "norm_names[1] = \"scaled to [0,1]\"\n",
    "\n",
    "norm_names[2] = \"no scaling, as-is\"\n"
   ]
  },
  {
   "cell_type": "code",
   "execution_count": 44,
   "metadata": {
    "collapsed": false
   },
   "outputs": [
    {
     "name": "stdout",
     "output_type": "stream",
     "text": [
      "Untuned model has a training F1 score of 80.24%.\n",
      "Untuned model has a testing F1 score of 80.50%.\n",
      "SVC(C=1.0, cache_size=200, class_weight=None, coef0=0.0,\n",
      "  decision_function_shape=None, degree=3, gamma='auto', kernel='rbf',\n",
      "  max_iter=-1, probability=False, random_state=42, shrinking=True,\n",
      "  tol=0.001, verbose=False)\n",
      "\n",
      "Data Type: mean 0, std.dev 1\n",
      "Model: General\n",
      "Tuned model (10-fold) has a training F1 score of 83.83%.\n",
      "Tuned model (10-fold) has a testing F1 score of 80.00%.\n",
      "SVC(C=0.015625, cache_size=200, class_weight=None, coef0=0.0,\n",
      "  decision_function_shape=None, degree=3, gamma=0.0001, kernel='linear',\n",
      "  max_iter=-1, probability=False, random_state=42, shrinking=True,\n",
      "  tol=0.01, verbose=False)\n",
      "\n",
      "Data Type: scaled to [0,1]\n",
      "Model: General\n",
      "Tuned model (10-fold) has a training F1 score of 85.35%.\n",
      "Tuned model (10-fold) has a testing F1 score of 79.22%.\n",
      "SVC(C=1, cache_size=200, class_weight=None, coef0=0.0,\n",
      "  decision_function_shape=None, degree=3, gamma=0.1, kernel='rbf',\n",
      "  max_iter=-1, probability=False, random_state=42, shrinking=True,\n",
      "  tol=0.01, verbose=False)\n",
      "\n",
      "Data Type: no scaling, as-is\n",
      "Model: General\n",
      "Tuned model (10-fold) has a training F1 score of 83.83%.\n",
      "Tuned model (10-fold) has a testing F1 score of 80.00%.\n",
      "SVC(C=0.015625, cache_size=200, class_weight=None, coef0=0.0,\n",
      "  decision_function_shape=None, degree=3, gamma=0.0001, kernel='linear',\n",
      "  max_iter=-1, probability=False, random_state=42, shrinking=True,\n",
      "  tol=0.01, verbose=False)\n",
      "\n"
     ]
    }
   ],
   "source": [
    "# TODO: Import 'GridSearchCV' and 'make_scorer'\n",
    "from sklearn.grid_search import GridSearchCV\n",
    "from sklearn.metrics import make_scorer\n",
    "from sklearn.cross_validation import StratifiedShuffleSplit, StratifiedKFold\n",
    "\n",
    "# TODO: Create the parameters list you wish to tune\n",
    "# parameters = {'kernel': ['rbf','poly'], 'degree': range(1,6), 'C': [pow(2,-i) for i in xrange(2,9)]}\n",
    "# parameters = {'kernel': ['linear','rbf','poly','sigmoid'], 'degree': range(0,5), 'C': [pow(2,-i) for i in xrange(-1,15)]}\n",
    "parameters = {'kernel': ['linear','rbf','sigmoid'],'gamma' : [ 0.0001, 0.001, 0.1, 10, 100 ], 'C': [1] + [pow(2,-i) for i in xrange(1,10)], 'tol': [pow(10,-i) for i in xrange(2,8)]}\n",
    "# parameters = {'kernel': ['rbf'], 'gamma': [ 0.0001, 0.001, 0.1, 10, 100 ], 'C': [pow(10,i) for i in range(-3,4)]}\n",
    "# parameters = { 'C': [float(pow(2,-i)) for i in xrange(-1,15)]} #, 'class_weight' : [None, 'balanced']}\n",
    "# parameters = {'n_neighbors': range(3,8), 'weights': ['uniform','distance']}\n",
    "\n",
    "# TODO: Initialize the classifier\n",
    "# clf = KNeighborsClassifier()\n",
    "clf = SVC(random_state = 42)\n",
    "ssscv = StratifiedShuffleSplit( y_train, n_iter=10, test_size=15, random_state = 42)\n",
    "\n",
    "# TODO: Make an f1 scoring function using 'make_scorer' \n",
    "f1_scorer = make_scorer(f1_score, pos_label='yes')\n",
    "\n",
    "# TODO: Perform grid search on the classifier using the f1_scorer as the scoring method\n",
    "grid_obj_scv = [GridSearchCV(clf, parameters, cv = ssscv, scoring=f1_scorer) for i in [0, 1, 2]] # 10-fold\n",
    "# grid_obj_lvc = [GridSearchCV(LinearSVC(random_state=42), { 'C': parameters['C']}, cv = ssscv, scoring=f1_scorer) for i in [0, 1, 2]] \n",
    "\n",
    "# TODO: Fit the grid search object to the training data and find the optimal parameters\n",
    "\n",
    "print \"Untuned model has a training F1 score of {:.2f}%.\".format(predict_labels(classifiers[1], X_train, y_train)['score']*100)\n",
    "print \"Untuned model has a testing F1 score of {:.2f}%.\".format(predict_labels(classifiers[1], X_test, y_test)['score']*100)\n",
    "print classifiers[1]\n",
    "print \"\"\n",
    "\n",
    "for i in [0, 1, 2]:\n",
    "    grid_obj_scv[i].fit(X_tr[i], y_train)\n",
    "    # grid_obj_lvc[i].fit(X_tr[i], y_train)\n",
    "\n",
    "    # Get the estimator\n",
    "    # clf = grid_obj.best_estimator_\n",
    "\n",
    "    # Report the final F1 score for training and testing after parameter tuning\n",
    "    print \"Data Type: {}\\nModel: General\".format(norm_names[i])\n",
    "    print \"Tuned model ({}-fold) has a training F1 score of {:.2f}%.\".format(len(ssscv), predict_labels(grid_obj_scv[i].best_estimator_, X_tr[i], y_train)['score']*100)\n",
    "    print \"Tuned model ({}-fold) has a testing F1 score of {:.2f}%.\".format(len(ssscv), predict_labels(grid_obj_scv[i].best_estimator_, X_te[i], y_test)['score']*100)\n",
    "    print grid_obj_scv[i].best_estimator_\n",
    "    if False:\n",
    "        print \"Model: Linear\"\n",
    "        print \"Tuned model ({}-fold) has a training F1 score of {:.2f}%.\".format(len(ssscv), predict_labels(grid_obj_lvc[i].best_estimator_, X_tr[i], y_train)['score']*100)\n",
    "        print \"Tuned model ({}-fold) has a testing F1 score of {:.2f}%.\".format(len(ssscv), predict_labels(grid_obj_lvc[i].best_estimator_, X_te[i], y_test)['score']*100)\n",
    "        print grid_obj_lvc[i].best_estimator_\n",
    "    print \"\""
   ]
  },
  {
   "cell_type": "markdown",
   "metadata": {},
   "source": [
    "### Question 5 - Final F<sub>1</sub> Score\n",
    "*What is the final model's F<sub>1</sub> score for training and testing? How does that score compare to the untuned model?*"
   ]
  },
  {
   "cell_type": "markdown",
   "metadata": {},
   "source": [
    "**Answer: **\n",
    "\n",
    "I have based my results below for the fitted model using data scaled to the interval $[0,1]$, since upon the analysis above, the best results over the training set is achieved in that scaling. Here's the final table of $F_1$ scores:\n",
    "\n",
    "|     Model Type    | F1 Score (train) | F1 Score (test) |\n",
    "| :---------------: | :---------------------: | :--------------------: |\n",
    "| Untuned | 80.24% | 80.50% |\n",
    "| Tuned | 85.35% | 79.22% |\n",
    "\n",
    "As we can see, while the tuned model does well better than untuned model in the training set, untuned model performs better in the testing set."
   ]
  },
  {
   "cell_type": "markdown",
   "metadata": {},
   "source": [
    "> **Note**: Once you have completed all of the code implementations and successfully answered each question above, you may finalize your work by exporting the iPython Notebook as an HTML document. You can do this by using the menu above and navigating to  \n",
    "**File -> Download as -> HTML (.html)**. Include the finished document along with this notebook as your submission."
   ]
  },
  {
   "cell_type": "markdown",
   "metadata": {},
   "source": [
    "## Notes\n",
    "\n",
    "Dear grader, thanks a lot for your previous comments, they were very helpful and constructive. If you have time and patience, could you review the extra work below too? Thanks again!"
   ]
  },
  {
   "cell_type": "markdown",
   "metadata": {},
   "source": [
    "## Extra Work\n",
    "\n",
    "Here, I'll try a different approach to the data at hand. The work I'll do will be mostly on the preprocessing level rather than modeling. I want to start by using `preprocess_features_2` which treats binary categories as single feature rather than two separate one like `get_dummies` does, and normalizes numeric features to the interval $[0,1]$."
   ]
  },
  {
   "cell_type": "code",
   "execution_count": 47,
   "metadata": {
    "collapsed": false
   },
   "outputs": [
    {
     "name": "stdout",
     "output_type": "stream",
     "text": [
      "Processed feature columns (43 total features):\n",
      "['school_GP', 'sex_F', 'age', 'address_R', 'famsize_GT3', 'Pstatus_A', 'Medu', 'Fedu', 'Mjob_at_home', 'Mjob_health', 'Mjob_other', 'Mjob_services', 'Mjob_teacher', 'Fjob_at_home', 'Fjob_health', 'Fjob_other', 'Fjob_services', 'Fjob_teacher', 'reason_course', 'reason_home', 'reason_other', 'reason_reputation', 'guardian_father', 'guardian_mother', 'guardian_other', 'traveltime', 'studytime', 'failures', 'schoolsup', 'famsup', 'paid', 'activities', 'nursery', 'higher', 'internet', 'romantic', 'famrel', 'freetime', 'goout', 'Dalc', 'Walc', 'health', 'absences']\n"
     ]
    }
   ],
   "source": [
    "X_all_2 = preprocess_features_2(student_data[list(student_data.columns[:-1])])\n",
    "print \"Processed feature columns ({} total features):\\n{}\".format(len(X_all_2.columns), list(X_all_2.columns))"
   ]
  },
  {
   "cell_type": "markdown",
   "metadata": {},
   "source": [
    "As you can see the result above, now we have less features (e.g. `sex` now became only `sex_F` rather than `sex_F` and `sex_M`). Now we use this data to make predictions. Let's start by splitting into training and testing sets."
   ]
  },
  {
   "cell_type": "code",
   "execution_count": 48,
   "metadata": {
    "collapsed": false
   },
   "outputs": [
    {
     "name": "stdout",
     "output_type": "stream",
     "text": [
      "Training set has 300 samples.\n",
      "Testing set has 95 samples.\n"
     ]
    }
   ],
   "source": [
    "X_train_2, X_test_2, y_train_2, y_test_2 = train_test_split(X_all_2, y_all, \n",
    "                                                    test_size = num_test, \n",
    "                                                    train_size = num_train, \n",
    "                                                    stratify = y_all,\n",
    "                                                    random_state = 42)\n",
    "\n",
    "# Show the results of the split\n",
    "print \"Training set has {} samples.\".format(X_train.shape[0])\n",
    "print \"Testing set has {} samples.\".format(X_test.shape[0])"
   ]
  },
  {
   "cell_type": "markdown",
   "metadata": {},
   "source": [
    "Now, we fit the 3 chosen classifiers below and make a table out of the results."
   ]
  },
  {
   "cell_type": "code",
   "execution_count": 55,
   "metadata": {
    "collapsed": false
   },
   "outputs": [
    {
     "data": {
      "text/markdown": [
       "\n",
       "**Classifier 1 - GaussianNB**\n",
       "\n",
       "| Training Set Size | Training Time | Prediction Time (train) | Prediction Time (test) | F1 Score (train) | F1 Score (test) |\n",
       "| :---------------: | :---------------------: | :---------------------: | :--------------------: | :--------------: | :-------------: |\n",
       "| 100 |0.0011 |0.0004 |0.0008 |0.8088 | 0.6912 |\n",
       "| 200 |0.0015 |0.0005 |0.0004 |0.7926 | 0.7519 |\n",
       "| 300 |0.0013 |0.0005 |0.0004 |0.8038 | 0.7761 |\n",
       "\n",
       "\n",
       "**Classifier 2 - SVC**\n",
       "\n",
       "| Training Set Size | Training Time | Prediction Time (train) | Prediction Time (test) | F1 Score (train) | F1 Score (test) |\n",
       "| :---------------: | :---------------------: | :---------------------: | :--------------------: | :--------------: | :-------------: |\n",
       "| 100 |0.0018 |0.0012 |0.0012 |0.7952 | 0.8050 |\n",
       "| 200 |0.0054 |0.0038 |0.0019 |0.7879 | 0.8050 |\n",
       "| 300 |0.0118 |0.0079 |0.0033 |0.8089 | 0.8050 |\n",
       "\n",
       "\n",
       "**Classifier 3 - DecisionTreeClassifier**\n",
       "\n",
       "| Training Set Size | Training Time | Prediction Time (train) | Prediction Time (test) | F1 Score (train) | F1 Score (test) |\n",
       "| :---------------: | :---------------------: | :---------------------: | :--------------------: | :--------------: | :-------------: |\n",
       "| 100 |0.0014 |0.0004 |0.0003 |1.0000 | 0.6667 |\n",
       "| 200 |0.0022 |0.0012 |0.0003 |1.0000 | 0.7154 |\n",
       "| 300 |0.0033 |0.0005 |0.0004 |1.0000 | 0.6721 |\n",
       "\n"
      ],
      "text/plain": [
       "<IPython.core.display.Markdown object>"
      ]
     },
     "metadata": {},
     "output_type": "display_data"
    }
   ],
   "source": [
    "classifiers_2 = [GaussianNB(),\n",
    "               SVC(random_state = 42),\n",
    "               DecisionTreeClassifier(random_state = 42)]\n",
    "\n",
    "table_2 = \"\"\"\n",
    "**{3}**\n",
    "\n",
    "| Training Set Size | Training Time | Prediction Time (train) | Prediction Time (test) | F1 Score (train) | F1 Score (test) |\n",
    "| :---------------: | :---------------------: | :---------------------: | :--------------------: | :--------------: | :-------------: |\n",
    "| 100 |{0[dt]:.4f} |{0[train][dt]:.4f} |{0[test][dt]:.4f} |{0[train][score]:.4f} | {0[test][score]:.4f} |\n",
    "| 200 |{1[dt]:.4f} |{1[train][dt]:.4f} |{1[test][dt]:.4f} |{1[train][score]:.4f} | {1[test][score]:.4f} |\n",
    "| 300 |{2[dt]:.4f} |{2[train][dt]:.4f} |{2[test][dt]:.4f} |{2[train][score]:.4f} | {2[test][score]:.4f} |\n",
    "\n",
    "\"\"\"\n",
    "\n",
    "# TODO: Set up the training set sizes\n",
    "X_train_2_100 = X_train_2[:100]\n",
    "y_train_2_100 = y_train_2[:100]\n",
    "\n",
    "X_train_2_200 = X_train_2[:200]\n",
    "y_train_2_200 = y_train_2[:200]\n",
    "\n",
    "X_train_2_300 = X_train_2\n",
    "y_train_2_300 = y_train_2\n",
    "\n",
    "# TODO: Execute the 'train_predict' function for each classifier and each training set size\n",
    "printout_2 = \"\"\n",
    "for i in range(len(classifiers_2)):\n",
    "    r_2 = [\"\"] * 4\n",
    "    r_2[3] = \"Classifier {} - {}\".format(i + 1,classifiers_2[i].__class__.__name__)\n",
    "    r_2[0] = train_predict(classifiers_2[i], X_train_2_100, y_train_2_100, X_test_2, y_test_2)\n",
    "    r_2[1] = train_predict(classifiers_2[i], X_train_2_200, y_train_2_200, X_test_2, y_test_2)\n",
    "    r_2[2] = train_predict(classifiers_2[i], X_train_2_300, y_train_2_300, X_test_2, y_test_2)\n",
    "    printout_2 += table.format(*r_2)\n",
    "    \n",
    "printmd(printout_2)"
   ]
  },
  {
   "cell_type": "markdown",
   "metadata": {},
   "source": [
    "Again, SVM looks like the best. Let's fine-tune parameters."
   ]
  },
  {
   "cell_type": "code",
   "execution_count": 54,
   "metadata": {
    "collapsed": false
   },
   "outputs": [
    {
     "name": "stdout",
     "output_type": "stream",
     "text": [
      "Untuned model has a training F1 score of 80.89%.\n",
      "Untuned model has a testing F1 score of 80.50%.\n",
      "SVC(C=1.0, cache_size=200, class_weight=None, coef0=0.0,\n",
      "  decision_function_shape=None, degree=3, gamma='auto', kernel='rbf',\n",
      "  max_iter=-1, probability=False, random_state=42, shrinking=True,\n",
      "  tol=0.001, verbose=False)\n",
      "\n",
      "Tuned model (10-fold) has a training F1 score of 85.53%.\n",
      "Tuned model (10-fold) has a testing F1 score of 80.52%.\n",
      "SVC(C=1, cache_size=200, class_weight=None, coef0=0.0,\n",
      "  decision_function_shape=None, degree=3, gamma=0.1, kernel='rbf',\n",
      "  max_iter=-1, probability=False, random_state=42, shrinking=True,\n",
      "  tol=0.01, verbose=False)\n"
     ]
    }
   ],
   "source": [
    "# TODO: Create the parameters list you wish to tune\n",
    "# parameters = {'kernel': ['rbf','poly'], 'degree': range(1,6), 'C': [pow(2,-i) for i in xrange(2,9)]}\n",
    "# parameters = {'kernel': ['linear','rbf','poly','sigmoid'], 'degree': range(0,5), 'C': [pow(2,-i) for i in xrange(-1,15)]}\n",
    "parameters_2 = {'kernel': ['linear','rbf'],'gamma' : [ 0.0001, 0.001, 0.1, 10, 100 ], 'C': [1] + [pow(2,-i) for i in xrange(1,5)], 'tol': [pow(10,-i) for i in xrange(2,6)]}\n",
    "# parameters = {'kernel': ['rbf'], 'gamma': [ 0.0001, 0.001, 0.1, 10, 100 ], 'C': [pow(10,i) for i in range(-3,4)]}\n",
    "# parameters = { 'C': [float(pow(2,-i)) for i in xrange(-1,15)]} #, 'class_weight' : [None, 'balanced']}\n",
    "# parameters = {'n_neighbors': range(3,8), 'weights': ['uniform','distance']}\n",
    "\n",
    "# TODO: Initialize the classifier\n",
    "# clf = KNeighborsClassifier()\n",
    "clf_2 = SVC(random_state = 42)\n",
    "ssscv_2 = StratifiedShuffleSplit( y_train_2, n_iter=10, test_size=15, random_state = 42)\n",
    "\n",
    "# TODO: Make an f1 scoring function using 'make_scorer' \n",
    "f1_scorer_2 = make_scorer(f1_score, pos_label='yes')\n",
    "\n",
    "# TODO: Perform grid search on the classifier using the f1_scorer as the scoring method\n",
    "grid_obj_scv_2 = GridSearchCV(clf_2, parameters_2, cv = ssscv_2, scoring=f1_scorer_2) # 10-fold\n",
    "# grid_obj_lvc = [GridSearchCV(LinearSVC(random_state=42), { 'C': parameters['C']}, cv = ssscv, scoring=f1_scorer) for i in [0, 1, 2]] \n",
    "\n",
    "# TODO: Fit the grid search object to the training data and find the optimal parameters\n",
    "\n",
    "print \"Untuned model has a training F1 score of {:.2f}%.\".format(predict_labels(classifiers_2[1], X_train_2, y_train_2)['score']*100)\n",
    "print \"Untuned model has a testing F1 score of {:.2f}%.\".format(predict_labels(classifiers_2[1], X_test_2, y_test_2)['score']*100)\n",
    "print classifiers_2[1]\n",
    "print \"\"\n",
    "\n",
    "grid_obj_scv_2.fit(X_train_2, y_train_2)\n",
    "# grid_obj_lvc[i].fit(X_tr[i], y_train)\n",
    "\n",
    "# Get the estimator\n",
    "# clf = grid_obj.best_estimator_\n",
    "\n",
    "# Report the final F1 score for training and testing after parameter tuning\n",
    "\n",
    "print \"Tuned model ({}-fold) has a training F1 score of {:.2f}%.\".format(len(ssscv_2), predict_labels(grid_obj_scv_2.best_estimator_, X_train_2, y_train_2)['score']*100)\n",
    "print \"Tuned model ({}-fold) has a testing F1 score of {:.2f}%.\".format(len(ssscv_2), predict_labels(grid_obj_scv_2.best_estimator_, X_test_2, y_test_2)['score']*100)\n",
    "print grid_obj_scv_2.best_estimator_"
   ]
  },
  {
   "cell_type": "markdown",
   "metadata": {},
   "source": [
    "As you can see below, our final tuned model has a better (not extremely, but still higher) final training _and_ testing score than the original one . I think I would conclude that it's better to convert binary categories into single binary feature rather than two. Similarly, given a feature with $n$ categories, instead of replacing it with $n$ features, we might want to try making $\\lceil \\lg n \\rceil$ features (e.g. if we have a feature $F$ with choices, say, $\\{0,1,2,3\\}$, I would have two binary features $F_1$ and $F_2$ such that the correspondence is\n",
    "\n",
    "| $F$ | $F_1$ | $F_2$ |\n",
    "| :--: | :--: | :--: |\n",
    "| 0 | 0 | 0 |\n",
    "| 1 | 0 | 1 |\n",
    "| 2 | 1 | 0 |\n",
    "| 3 | 1 | 1 |\n",
    "\n",
    "which looks like bit-encoding."
   ]
  }
 ],
 "metadata": {
  "kernelspec": {
   "display_name": "Python 2",
   "language": "python",
   "name": "python2"
  },
  "language_info": {
   "codemirror_mode": {
    "name": "ipython",
    "version": 2
   },
   "file_extension": ".py",
   "mimetype": "text/x-python",
   "name": "python",
   "nbconvert_exporter": "python",
   "pygments_lexer": "ipython2",
   "version": "2.7.12"
  }
 },
 "nbformat": 4,
 "nbformat_minor": 0
}
